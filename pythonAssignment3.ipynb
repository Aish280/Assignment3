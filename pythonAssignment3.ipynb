{
 "cells": [
  {
   "cell_type": "code",
   "execution_count": 1,
   "metadata": {},
   "outputs": [
    {
     "name": "stdout",
     "output_type": "stream",
     "text": [
      "enter age: 14\n",
      "you are not eligible\n"
     ]
    }
   ],
   "source": [
    "# 1)python program to check a person is eligible for voting or not using if-else\n",
    "age=int(input(\"enter age: \"))\n",
    "if age>=18:\n",
    "    print(\"you are eligible\")\n",
    "else:\n",
    "    print(\"you are not eligible\")"
   ]
  },
  {
   "cell_type": "code",
   "execution_count": 2,
   "metadata": {},
   "outputs": [
    {
     "name": "stdout",
     "output_type": "stream",
     "text": [
      "enter a number23\n",
      "it is a odd number\n"
     ]
    }
   ],
   "source": [
    "# 2)python program to check a number is even or odd\n",
    "num=int(input(\"enter a number\"))\n",
    "if(num%2)==0:\n",
    "    print(\"it is a even number\")\n",
    "else:\n",
    "    print(\"it is a odd number\")"
   ]
  },
  {
   "cell_type": "code",
   "execution_count": 3,
   "metadata": {},
   "outputs": [
    {
     "name": "stdout",
     "output_type": "stream",
     "text": [
      "enter a number: 14\n",
      "it is not a prime number\n"
     ]
    }
   ],
   "source": [
    "# 3)python program to check a number is prime or not\n",
    "num=int(input(\"enter a number: \"))\n",
    "for i in range(2,num):\n",
    "    if num %i ==0:\n",
    "        print(\"it is not a prime number\")\n",
    "        break\n",
    "    else:\n",
    "        print(\"it is a prime number\")"
   ]
  },
  {
   "cell_type": "code",
   "execution_count": 4,
   "metadata": {},
   "outputs": [
    {
     "name": "stdout",
     "output_type": "stream",
     "text": [
      "enter a number: -45\n",
      "it is a negitive number\n"
     ]
    }
   ],
   "source": [
    "# 4)python program to check a number is positive or not\n",
    "num=float(input(\"enter a number: \"))\n",
    "if num >=0:\n",
    "    print(\"it is a positive number\")\n",
    "else:\n",
    "    print(\"it is a negitive number\")\n"
   ]
  },
  {
   "cell_type": "code",
   "execution_count": 5,
   "metadata": {},
   "outputs": [
    {
     "name": "stdout",
     "output_type": "stream",
     "text": [
      "Quadratic function : (a * x^2) + b*x + c\n",
      "a: 5\n",
      "b: 20\n",
      "c: 10\n",
      "There 2 roots: -0.585786 and -3.414214\n"
     ]
    }
   ],
   "source": [
    "# 5)python program to find the roots of a quadratic equation using elif\n",
    "from math import sqrt\n",
    "print(\"Quadratic function : (a * x^2) + b*x + c\")\n",
    "a=float(input(\"a: \"))\n",
    "b=float(input(\"b: \"))\n",
    "c=float(input(\"c: \"))\n",
    "d=b**2-4*a*c\n",
    "if d>0:\n",
    "    num_roots = 2\n",
    "    x1=(((-b)+sqrt(d))/(2*a))\n",
    "    x2=(((-b)-sqrt(d))/(2*a))\n",
    "    print(\"There 2 roots: %f and %f\" %(x1,x2))\n",
    "elif d==0:\n",
    "    num_roots = 1\n",
    "    x=(-b)/2*a\n",
    "    print(\"There is one root: \",x)\n",
    "else:\n",
    "    num_roots = 0\n",
    "    print(\"no roots,discriminant<0.\")\n",
    "    exit()\n",
    "    "
   ]
  },
  {
   "cell_type": "code",
   "execution_count": 6,
   "metadata": {},
   "outputs": [
    {
     "name": "stdout",
     "output_type": "stream",
     "text": [
      "enter a number: 56\n",
      "Positive number\n"
     ]
    }
   ],
   "source": [
    "# 6)python program to check whether a number is positive or negative or zero using nested-if\n",
    "num=float(input(\"enter a number: \"))\n",
    "if num>=0:\n",
    "    if num == 0:\n",
    "        print(\"Zero\")\n",
    "    else:\n",
    "        print(\"Positive number\")\n",
    "else:\n",
    "    print(\"Negative number\")\n"
   ]
  },
  {
   "cell_type": "code",
   "execution_count": 7,
   "metadata": {},
   "outputs": [
    {
     "name": "stdout",
     "output_type": "stream",
     "text": [
      "enter a number between 1-5=4\n",
      "four\n"
     ]
    }
   ],
   "source": [
    "# 7)python program to accept a number(1-5) and print the given number in words using nested-if\n",
    "num=int(input(\"enter a number between 1-5=\"))\n",
    "if(num<=5 and num>0):\n",
    "    if num==1:\n",
    "        print(\"one\")\n",
    "    elif num==2:\n",
    "        print(\"two\")\n",
    "    elif num==3:\n",
    "        print(\"three\")\n",
    "    elif num==4:\n",
    "        print(\"four\")\n",
    "    elif num==5:\n",
    "        print(\"five\")\n",
    "else:\n",
    "     print(\"entered number is not between 1-5\")\n"
   ]
  },
  {
   "cell_type": "code",
   "execution_count": 9,
   "metadata": {},
   "outputs": [
    {
     "name": "stdout",
     "output_type": "stream",
     "text": [
      "enter the charater=e\n",
      "e Is a vowel\n"
     ]
    }
   ],
   "source": [
    "# 8)python program to read character and print the given character is vowel or consonant\n",
    "char=(input(\"enter the charater=\"))\n",
    "if(char=='a')or(char=='e')or(char=='i')or(char=='o')or(char=='u'):\n",
    "    print(char,\"Is a vowel\")\n",
    "else:\n",
    "    print(char,\"Is a consonant\")"
   ]
  }
 ],
 "metadata": {
  "kernelspec": {
   "display_name": "Python 3",
   "language": "python",
   "name": "python3"
  },
  "language_info": {
   "codemirror_mode": {
    "name": "ipython",
    "version": 3
   },
   "file_extension": ".py",
   "mimetype": "text/x-python",
   "name": "python",
   "nbconvert_exporter": "python",
   "pygments_lexer": "ipython3",
   "version": "3.8.3"
  }
 },
 "nbformat": 4,
 "nbformat_minor": 4
}
